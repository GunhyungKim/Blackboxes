{
  "nbformat": 4,
  "nbformat_minor": 0,
  "metadata": {
    "colab": {
      "name": "test.ipynb",
      "provenance": [],
      "collapsed_sections": [],
      "include_colab_link": true
    },
    "kernelspec": {
      "name": "python3",
      "display_name": "Python 3"
    },
    "accelerator": "GPU"
  },
  "cells": [
    {
      "cell_type": "markdown",
      "metadata": {
        "id": "view-in-github",
        "colab_type": "text"
      },
      "source": [
        "<a href=\"https://colab.research.google.com/github/GunhyungKim/Blockboxs/blob/main/test.ipynb\" target=\"_parent\"><img src=\"https://colab.research.google.com/assets/colab-badge.svg\" alt=\"Open In Colab\"/></a>"
      ]
    },
    {
      "cell_type": "code",
      "metadata": {
        "id": "RBKt5t9XMH-i",
        "colab": {
          "base_uri": "https://localhost:8080/",
          "height": 122
        },
        "outputId": "39706712-ed19-4c6b-9737-85132c2a5767"
      },
      "source": [
        "from google.colab import drive\n",
        "drive.mount('/content/drive')"
      ],
      "execution_count": null,
      "outputs": [
        {
          "output_type": "stream",
          "text": [
            "Go to this URL in a browser: https://accounts.google.com/o/oauth2/auth?client_id=947318989803-6bn6qk8qdgf4n4g3pfee6491hc0brc4i.apps.googleusercontent.com&redirect_uri=urn%3aietf%3awg%3aoauth%3a2.0%3aoob&response_type=code&scope=email%20https%3a%2f%2fwww.googleapis.com%2fauth%2fdocs.test%20https%3a%2f%2fwww.googleapis.com%2fauth%2fdrive%20https%3a%2f%2fwww.googleapis.com%2fauth%2fdrive.photos.readonly%20https%3a%2f%2fwww.googleapis.com%2fauth%2fpeopleapi.readonly\n",
            "\n",
            "Enter your authorization code:\n",
            "··········\n",
            "Mounted at /content/drive\n"
          ],
          "name": "stdout"
        }
      ]
    },
    {
      "cell_type": "code",
      "metadata": {
        "id": "d245eZSDms9C",
        "colab": {
          "base_uri": "https://localhost:8080/",
          "height": 629
        },
        "outputId": "6234cc41-c531-48f4-aa00-26446ac01077"
      },
      "source": [
        "!pip install --upgrade tensorflow-gpu==1.13.1"
      ],
      "execution_count": null,
      "outputs": [
        {
          "output_type": "stream",
          "text": [
            "Collecting tensorflow-gpu==1.13.1\n",
            "\u001b[?25l  Downloading https://files.pythonhosted.org/packages/7b/b1/0ad4ae02e17ddd62109cd54c291e311c4b5fd09b4d0678d3d6ce4159b0f0/tensorflow_gpu-1.13.1-cp36-cp36m-manylinux1_x86_64.whl (345.2MB)\n",
            "\u001b[K     |████████████████████████████████| 345.2MB 45kB/s \n",
            "\u001b[?25hCollecting tensorboard<1.14.0,>=1.13.0\n",
            "\u001b[?25l  Downloading https://files.pythonhosted.org/packages/0f/39/bdd75b08a6fba41f098b6cb091b9e8c7a80e1b4d679a581a0ccd17b10373/tensorboard-1.13.1-py3-none-any.whl (3.2MB)\n",
            "\u001b[K     |████████████████████████████████| 3.2MB 34.3MB/s \n",
            "\u001b[?25hRequirement already satisfied, skipping upgrade: keras-preprocessing>=1.0.5 in /usr/local/lib/python3.6/dist-packages (from tensorflow-gpu==1.13.1) (1.1.0)\n",
            "Requirement already satisfied, skipping upgrade: numpy>=1.13.3 in /usr/local/lib/python3.6/dist-packages (from tensorflow-gpu==1.13.1) (1.17.4)\n",
            "Requirement already satisfied, skipping upgrade: wheel>=0.26 in /usr/local/lib/python3.6/dist-packages (from tensorflow-gpu==1.13.1) (0.33.6)\n",
            "Requirement already satisfied, skipping upgrade: gast>=0.2.0 in /usr/local/lib/python3.6/dist-packages (from tensorflow-gpu==1.13.1) (0.2.2)\n",
            "Requirement already satisfied, skipping upgrade: keras-applications>=1.0.6 in /usr/local/lib/python3.6/dist-packages (from tensorflow-gpu==1.13.1) (1.0.8)\n",
            "Requirement already satisfied, skipping upgrade: protobuf>=3.6.1 in /usr/local/lib/python3.6/dist-packages (from tensorflow-gpu==1.13.1) (3.10.0)\n",
            "Requirement already satisfied, skipping upgrade: absl-py>=0.1.6 in /usr/local/lib/python3.6/dist-packages (from tensorflow-gpu==1.13.1) (0.8.1)\n",
            "Requirement already satisfied, skipping upgrade: termcolor>=1.1.0 in /usr/local/lib/python3.6/dist-packages (from tensorflow-gpu==1.13.1) (1.1.0)\n",
            "Requirement already satisfied, skipping upgrade: grpcio>=1.8.6 in /usr/local/lib/python3.6/dist-packages (from tensorflow-gpu==1.13.1) (1.15.0)\n",
            "Requirement already satisfied, skipping upgrade: astor>=0.6.0 in /usr/local/lib/python3.6/dist-packages (from tensorflow-gpu==1.13.1) (0.8.0)\n",
            "Collecting tensorflow-estimator<1.14.0rc0,>=1.13.0\n",
            "\u001b[?25l  Downloading https://files.pythonhosted.org/packages/bb/48/13f49fc3fa0fdf916aa1419013bb8f2ad09674c275b4046d5ee669a46873/tensorflow_estimator-1.13.0-py2.py3-none-any.whl (367kB)\n",
            "\u001b[K     |████████████████████████████████| 368kB 67.2MB/s \n",
            "\u001b[?25hRequirement already satisfied, skipping upgrade: six>=1.10.0 in /usr/local/lib/python3.6/dist-packages (from tensorflow-gpu==1.13.1) (1.12.0)\n",
            "Requirement already satisfied, skipping upgrade: markdown>=2.6.8 in /usr/local/lib/python3.6/dist-packages (from tensorboard<1.14.0,>=1.13.0->tensorflow-gpu==1.13.1) (3.1.1)\n",
            "Requirement already satisfied, skipping upgrade: werkzeug>=0.11.15 in /usr/local/lib/python3.6/dist-packages (from tensorboard<1.14.0,>=1.13.0->tensorflow-gpu==1.13.1) (0.16.0)\n",
            "Requirement already satisfied, skipping upgrade: h5py in /usr/local/lib/python3.6/dist-packages (from keras-applications>=1.0.6->tensorflow-gpu==1.13.1) (2.8.0)\n",
            "Requirement already satisfied, skipping upgrade: setuptools in /usr/local/lib/python3.6/dist-packages (from protobuf>=3.6.1->tensorflow-gpu==1.13.1) (41.6.0)\n",
            "Collecting mock>=2.0.0\n",
            "  Downloading https://files.pythonhosted.org/packages/05/d2/f94e68be6b17f46d2c353564da56e6fb89ef09faeeff3313a046cb810ca9/mock-3.0.5-py2.py3-none-any.whl\n",
            "\u001b[31mERROR: tensorflow 1.15.0 has requirement tensorboard<1.16.0,>=1.15.0, but you'll have tensorboard 1.13.1 which is incompatible.\u001b[0m\n",
            "\u001b[31mERROR: tensorflow 1.15.0 has requirement tensorflow-estimator==1.15.1, but you'll have tensorflow-estimator 1.13.0 which is incompatible.\u001b[0m\n",
            "Installing collected packages: tensorboard, mock, tensorflow-estimator, tensorflow-gpu\n",
            "  Found existing installation: tensorboard 1.15.0\n",
            "    Uninstalling tensorboard-1.15.0:\n",
            "      Successfully uninstalled tensorboard-1.15.0\n",
            "  Found existing installation: tensorflow-estimator 1.15.1\n",
            "    Uninstalling tensorflow-estimator-1.15.1:\n",
            "      Successfully uninstalled tensorflow-estimator-1.15.1\n",
            "Successfully installed mock-3.0.5 tensorboard-1.13.1 tensorflow-estimator-1.13.0 tensorflow-gpu-1.13.1\n"
          ],
          "name": "stdout"
        }
      ]
    },
    {
      "cell_type": "code",
      "metadata": {
        "id": "OkXUwsMOLHLZ",
        "colab": {
          "base_uri": "https://localhost:8080/",
          "height": 304
        },
        "outputId": "3d82ca6d-06e6-4c3f-f45b-2aa32f770cfb"
      },
      "source": [
        "import cv2\n",
        "from tensorflow import keras\n",
        "import numpy as np\n",
        "from keras.applications.vgg16 import VGG16\n",
        "from keras.models import Model, load_model\n",
        "from keras.layers import Dense, GlobalAveragePooling2D\n",
        "import glob, os\n",
        "import matplotlib.pyplot as plt\n",
        "import sklearn.metrics as metrics"
      ],
      "execution_count": null,
      "outputs": [
        {
          "output_type": "stream",
          "text": [
            "/usr/local/lib/python3.6/dist-packages/tensorflow/python/framework/dtypes.py:526: FutureWarning: Passing (type, 1) or '1type' as a synonym of type is deprecated; in a future version of numpy, it will be understood as (type, (1,)) / '(1,)type'.\n",
            "  _np_qint8 = np.dtype([(\"qint8\", np.int8, 1)])\n",
            "/usr/local/lib/python3.6/dist-packages/tensorflow/python/framework/dtypes.py:527: FutureWarning: Passing (type, 1) or '1type' as a synonym of type is deprecated; in a future version of numpy, it will be understood as (type, (1,)) / '(1,)type'.\n",
            "  _np_quint8 = np.dtype([(\"quint8\", np.uint8, 1)])\n",
            "/usr/local/lib/python3.6/dist-packages/tensorflow/python/framework/dtypes.py:528: FutureWarning: Passing (type, 1) or '1type' as a synonym of type is deprecated; in a future version of numpy, it will be understood as (type, (1,)) / '(1,)type'.\n",
            "  _np_qint16 = np.dtype([(\"qint16\", np.int16, 1)])\n",
            "/usr/local/lib/python3.6/dist-packages/tensorflow/python/framework/dtypes.py:529: FutureWarning: Passing (type, 1) or '1type' as a synonym of type is deprecated; in a future version of numpy, it will be understood as (type, (1,)) / '(1,)type'.\n",
            "  _np_quint16 = np.dtype([(\"quint16\", np.uint16, 1)])\n",
            "/usr/local/lib/python3.6/dist-packages/tensorflow/python/framework/dtypes.py:530: FutureWarning: Passing (type, 1) or '1type' as a synonym of type is deprecated; in a future version of numpy, it will be understood as (type, (1,)) / '(1,)type'.\n",
            "  _np_qint32 = np.dtype([(\"qint32\", np.int32, 1)])\n",
            "/usr/local/lib/python3.6/dist-packages/tensorflow/python/framework/dtypes.py:535: FutureWarning: Passing (type, 1) or '1type' as a synonym of type is deprecated; in a future version of numpy, it will be understood as (type, (1,)) / '(1,)type'.\n",
            "  np_resource = np.dtype([(\"resource\", np.ubyte, 1)])\n"
          ],
          "name": "stderr"
        },
        {
          "output_type": "display_data",
          "data": {
            "text/html": [
              "<p style=\"color: red;\">\n",
              "The default version of TensorFlow in Colab will soon switch to TensorFlow 2.x.<br>\n",
              "We recommend you <a href=\"https://www.tensorflow.org/guide/migrate\" target=\"_blank\">upgrade</a> now \n",
              "or ensure your notebook will continue to use TensorFlow 1.x via the <code>%tensorflow_version 1.x</code> magic:\n",
              "<a href=\"https://colab.research.google.com/notebooks/tensorflow_version.ipynb\" target=\"_blank\">more info</a>.</p>\n"
            ],
            "text/plain": [
              "<IPython.core.display.HTML object>"
            ]
          },
          "metadata": {
            "tags": []
          }
        },
        {
          "output_type": "stream",
          "text": [
            "Using TensorFlow backend.\n"
          ],
          "name": "stderr"
        }
      ]
    },
    {
      "cell_type": "code",
      "metadata": {
        "id": "9NSImp95OO36"
      },
      "source": [
        "def calculate(TP, TN, FP, FN):\n",
        "  if TP==0 or TN == 0:\n",
        "    accuracy, precision, recall = 0, 0, 0\n",
        "  else:\n",
        "    accuracy, precision, recall = (TP+TN)/(TP+TN+FP+FN), TP/(TP+FP), TP/(TP+FN)\n",
        "  return accuracy, precision, recall"
      ],
      "execution_count": null,
      "outputs": []
    },
    {
      "cell_type": "code",
      "metadata": {
        "id": "hYLjW8vOlk6g"
      },
      "source": [
        "model = load_model('/content/drive/My Drive/Colab Notebooks/new_model.h5')"
      ],
      "execution_count": null,
      "outputs": []
    },
    {
      "cell_type": "code",
      "metadata": {
        "id": "KFfOwO3vOHht",
        "colab": {
          "base_uri": "https://localhost:8080/",
          "height": 102
        },
        "outputId": "87d26d21-63a8-4b5d-a50e-afd2c5110c38"
      },
      "source": [
        "threshold = 0.76\n",
        "\n",
        "err_file = []\n",
        "err_acc = []\n",
        "\n",
        "#no_accident\n",
        "files = glob.glob(os.path.join('/content/drive/My Drive/Colab Notebooks/0818data/test/0', \"*\"))\n",
        "files.sort()\n",
        "c=0\n",
        "\n",
        "y=[]\n",
        "for filename in files:\n",
        "  # print(filename)\n",
        "  img = cv2.imread(filename)\n",
        "  img = cv2.resize(img,(224,224))\n",
        "  img = np.float32(img / 255)\n",
        "  img = np.reshape(img,[1,224,224,3])\n",
        "\n",
        "  pred = model.predict(img)\n",
        "\n",
        "  # print(filename, pred,end=' : ')\n",
        "  y.append(pred[0][1])\n",
        "  if threshold < pred[0][1]:\n",
        "    # print('1')\n",
        "    c=c+1\n",
        "    err_file.append(filename)\n",
        "    err_acc.append(pred[0][1])\n",
        "  #else:\n",
        "    # print('0')\n",
        "  # print(pred)\n",
        "\n",
        "FP = c\n",
        "TN = len(files)-c\n",
        "print('FP : %d 비사고를 사고로' %(FP))\n",
        "print('TN : ', TN)\n",
        "\n",
        "\n",
        "files = glob.glob(os.path.join('/content/drive/My Drive/Colab Notebooks/0818data/test/1', \"*\"))\n",
        "files.sort()\n",
        "c=0\n",
        "\n",
        "y=[]\n",
        "for filename in files:\n",
        "  # print(filename)\n",
        "  img = cv2.imread(filename)\n",
        "  img = cv2.resize(img,(224,224))\n",
        "  img = np.float32(img / 255)\n",
        "  img = np.reshape(img,[1,224,224,3])\n",
        "\n",
        "  pred = model.predict(img)\n",
        "\n",
        "  # print(filename, pred,end=' : ')\n",
        "  y.append(pred[0][1])\n",
        "  if threshold < pred[0][1]:\n",
        "    # print('1')\n",
        "    c=c+1\n",
        "  else:\n",
        "    # print('0')\n",
        "    err_file.append(filename)\n",
        "    err_acc.append(pred[0][1])\n",
        "  # print(pred)\n",
        "\n",
        "TP = c\n",
        "FN = len(files)-c\n",
        "print('TP : ' , TP)\n",
        "print('FN : %d 사고를 비사고로' %(FN))\n",
        "\n",
        "acc, pre, rec = calculate(TP, TN, FP, FN)\n",
        "print(\"acc : %f, pre : %f, rec : %f\"%(acc, pre, rec))"
      ],
      "execution_count": null,
      "outputs": [
        {
          "output_type": "stream",
          "text": [
            "FP : 4 비사고를 사고로\n",
            "TN :  46\n",
            "TP :  42\n",
            "FN : 8 사고를 비사고로\n",
            "acc : 0.880000, pre : 0.913043, rec : 0.840000\n"
          ],
          "name": "stdout"
        }
      ]
    },
    {
      "cell_type": "code",
      "metadata": {
        "id": "Bn_wa-sERiID",
        "colab": {
          "base_uri": "https://localhost:8080/",
          "height": 221
        },
        "outputId": "9c28f044-d2aa-40f7-bedf-439d57555fd1"
      },
      "source": [
        "for i in range(0,12):\n",
        "  print(err_file[i], err_acc[i])"
      ],
      "execution_count": null,
      "outputs": [
        {
          "output_type": "stream",
          "text": [
            "/content/drive/My Drive/Colab Notebooks/0818data/test/0/0056.png 0.94817483\n",
            "/content/drive/My Drive/Colab Notebooks/0818data/test/0/0112.png 0.95300853\n",
            "/content/drive/My Drive/Colab Notebooks/0818data/test/0/0114.png 0.98846394\n",
            "/content/drive/My Drive/Colab Notebooks/0818data/test/0/0152.png 0.99331456\n",
            "/content/drive/My Drive/Colab Notebooks/0818data/test/1/0055.png 0.001375644\n",
            "/content/drive/My Drive/Colab Notebooks/0818data/test/1/0091.png 0.22011998\n",
            "/content/drive/My Drive/Colab Notebooks/0818data/test/1/0094.png 0.03548765\n",
            "/content/drive/My Drive/Colab Notebooks/0818data/test/1/0111.png 0.13326935\n",
            "/content/drive/My Drive/Colab Notebooks/0818data/test/1/0153.png 0.00012356152\n",
            "/content/drive/My Drive/Colab Notebooks/0818data/test/1/0158.png 2.6171041e-05\n",
            "/content/drive/My Drive/Colab Notebooks/0818data/test/1/0172.png 0.15826415\n",
            "/content/drive/My Drive/Colab Notebooks/0818data/test/1/0176.png 0.05550016\n"
          ],
          "name": "stdout"
        }
      ]
    }
  ]
}